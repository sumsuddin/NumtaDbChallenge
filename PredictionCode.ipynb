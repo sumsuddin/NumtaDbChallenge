{
 "cells": [
  {
   "cell_type": "markdown",
   "metadata": {},
   "source": [
    "**Imports and Inits**"
   ]
  },
  {
   "cell_type": "code",
   "execution_count": null,
   "metadata": {
    "colab": {
     "autoexec": {
      "startup": false,
      "wait_interval": 0
     },
     "base_uri": "https://localhost:8080/",
     "height": 37
    },
    "colab_type": "code",
    "executionInfo": {
     "elapsed": 8654,
     "status": "ok",
     "timestamp": 1529853648476,
     "user": {
      "displayName": "Md. Sumsuddin",
      "photoUrl": "//lh6.googleusercontent.com/-ELKy4PtkKxs/AAAAAAAAAAI/AAAAAAAAAAs/0dRC984RL_o/s50-c-k-no/photo.jpg",
      "userId": "100207404814063728855"
     },
     "user_tz": -360
    },
    "id": "oJ7UEnGcTx-E",
    "outputId": "76038958-9c7b-4a75-bce2-2bd086171957"
   },
   "outputs": [],
   "source": [
    "from fastai.imports import *\n",
    "\n",
    "from fastai.transforms import *\n",
    "from fastai.conv_learner import *\n",
    "from fastai.model import *\n",
    "from fastai.dataset import *\n",
    "from fastai.sgdr import *\n",
    "from fastai.plots import *\n",
    "\n",
    "sz=180\n",
    "arch=resnext50\n",
    "bs=24\n",
    "GENERATED_OUTPUT_DIR = 'numta/Fastai_gen/'"
   ]
  },
  {
   "cell_type": "markdown",
   "metadata": {},
   "source": [
    "**Load 3 different model for voting** (actually we used TTA() with max_zoom=1.1 during submission. As it can generate random result, here only prediction is used)"
   ]
  },
  {
   "cell_type": "code",
   "execution_count": null,
   "metadata": {},
   "outputs": [],
   "source": [
    "#tfms = tfms_from_model(arch, sz, max_zoom=1.1)\n",
    "tfms = tfms_from_model(arch, sz)\n",
    "data = ImageClassifierData.from_paths(GENERATED_OUTPUT_DIR, test_name='test', tfms=tfms, bs=bs, num_workers=4)"
   ]
  },
  {
   "cell_type": "code",
   "execution_count": null,
   "metadata": {},
   "outputs": [],
   "source": [
    "learn = ConvLearner.pretrained(arch, data, ps=0.5)\n",
    "learn.load('180_all_50_lrg')"
   ]
  },
  {
   "cell_type": "code",
   "execution_count": null,
   "metadata": {},
   "outputs": [],
   "source": [
    "learn2 = ConvLearner.pretrained(arch, data, ps=0.5)\n",
    "learn2.load('180_all_50_lrg3')"
   ]
  },
  {
   "cell_type": "code",
   "execution_count": null,
   "metadata": {},
   "outputs": [],
   "source": [
    "learn3 = ConvLearner.pretrained(arch, data, ps=0.5)\n",
    "learn3.load('180_all_50_lrg4')"
   ]
  },
  {
   "cell_type": "markdown",
   "metadata": {},
   "source": [
    "**Prediction**"
   ]
  },
  {
   "cell_type": "code",
   "execution_count": null,
   "metadata": {},
   "outputs": [],
   "source": [
    "test_probs, y = learn.TTA(is_test=True)\n",
    "test_probs = np.mean(test_probs, axis=0)"
   ]
  },
  {
   "cell_type": "code",
   "execution_count": null,
   "metadata": {},
   "outputs": [],
   "source": [
    "test_probs2, y2 = learn2.TTA(is_test=True)\n",
    "test_probs2 = np.mean(test_probs2, axis=0)"
   ]
  },
  {
   "cell_type": "code",
   "execution_count": null,
   "metadata": {},
   "outputs": [],
   "source": [
    "test_probs3, y3 = learn3.TTA(is_test=True)\n",
    "test_probs3 = np.mean(test_probs3, axis=0)"
   ]
  },
  {
   "cell_type": "code",
   "execution_count": null,
   "metadata": {},
   "outputs": [],
   "source": [
    "test_probs_comb = np.mean(np.array([test_probs, test_probs2, test_probs3]), axis=0)"
   ]
  },
  {
   "cell_type": "code",
   "execution_count": null,
   "metadata": {},
   "outputs": [],
   "source": [
    "test_preds = np.argmax(test_probs_comb, axis=1)\n",
    "file_names = np.array([os.path.basename(data.test_ds.fnames[x]) for x in range(len(test_preds))])\n",
    "csv_data = []\n",
    "for i, filename in enumerate(file_names):\n",
    "    csv_data.append([filename, test_preds[i]])\n",
    "csv_data = sorted(csv_data, key=lambda x: x[0])\n",
    "\n",
    "columns = ['key', 'label']\n",
    "\n",
    "df = pd.DataFrame(csv_data, columns=columns)\n",
    "\n",
    "df.to_csv('submit.csv', index=False)\n",
    "print (df.head())"
   ]
  }
 ],
 "metadata": {
  "accelerator": "GPU",
  "colab": {
   "collapsed_sections": [
    "Dur0bJzRTP7m"
   ],
   "default_view": {},
   "name": "FastaiHandwritten.ipynb",
   "provenance": [],
   "version": "0.3.2",
   "views": {}
  },
  "kernelspec": {
   "display_name": "Python 3",
   "language": "python",
   "name": "python3"
  },
  "language_info": {
   "codemirror_mode": {
    "name": "ipython",
    "version": 3
   },
   "file_extension": ".py",
   "mimetype": "text/x-python",
   "name": "python",
   "nbconvert_exporter": "python",
   "pygments_lexer": "ipython3",
   "version": "3.6.5"
  }
 },
 "nbformat": 4,
 "nbformat_minor": 1
}
